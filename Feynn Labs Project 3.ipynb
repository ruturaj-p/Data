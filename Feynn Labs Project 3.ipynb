{
 "cells":[
  {
   "cell_type":"code",
   "source":[
    "import numpy as np\n",
    "import pandas as pd\n",
    "import matplotlib.pyplot as plt\n",
    "import seaborn as sns"
   ],
   "execution_count":1,
   "outputs":[
    
   ],
   "metadata":{
    "datalore":{
     "node_id":"g6MoNjUqjUZkbwwtoqWM8S",
     "type":"CODE",
     "hide_input_from_viewers":true,
     "hide_output_from_viewers":true
    }
   }
  },
  {
   "cell_type":"code",
   "source":[
    "df=pd.read_csv('churn.csv')"
   ],
   "execution_count":2,
   "outputs":[
    
   ],
   "metadata":{
    "datalore":{
     "node_id":"mZllIs1vsQDKX5cxzqB8NA",
     "type":"CODE",
     "hide_input_from_viewers":true,
     "hide_output_from_viewers":true
    }
   }
  },
  {
   "cell_type":"code",
   "source":[
    "df"
   ],
   "execution_count":3,
   "outputs":[
    {
     "data":{
      "text\/html":[
       "<div>\n",
       "<style scoped>\n",
       "    .dataframe tbody tr th:only-of-type {\n",
       "        vertical-align: middle;\n",
       "    }\n",
       "\n",
       "    .dataframe tbody tr th {\n",
       "        vertical-align: top;\n",
       "    }\n",
       "\n",
       "    .dataframe thead th {\n",
       "        text-align: right;\n",
       "    }\n",
       "<\/style>\n",
       "<table border=\"1\" class=\"dataframe\">\n",
       "  <thead>\n",
       "    <tr style=\"text-align: right;\">\n",
       "      <th><\/th>\n",
       "      <th>churn<\/th>\n",
       "      <th>accountlength<\/th>\n",
       "      <th>internationalplan<\/th>\n",
       "      <th>voicemailplan<\/th>\n",
       "      <th>numbervmailmessages<\/th>\n",
       "      <th>totaldayminutes<\/th>\n",
       "      <th>totaldaycalls<\/th>\n",
       "      <th>totaldaycharge<\/th>\n",
       "      <th>totaleveminutes<\/th>\n",
       "      <th>totalevecalls<\/th>\n",
       "      <th>totalevecharge<\/th>\n",
       "      <th>totalnightminutes<\/th>\n",
       "      <th>totalnightcalls<\/th>\n",
       "      <th>totalnightcharge<\/th>\n",
       "      <th>totalintlminutes<\/th>\n",
       "      <th>totalintlcalls<\/th>\n",
       "      <th>totalintlcharge<\/th>\n",
       "      <th>numbercustomerservicecalls<\/th>\n",
       "    <\/tr>\n",
       "  <\/thead>\n",
       "  <tbody>\n",
       "    <tr>\n",
       "      <th>0<\/th>\n",
       "      <td>No<\/td>\n",
       "      <td>128<\/td>\n",
       "      <td>no<\/td>\n",
       "      <td>yes<\/td>\n",
       "      <td>25<\/td>\n",
       "      <td>265.1<\/td>\n",
       "      <td>110<\/td>\n",
       "      <td>45.07<\/td>\n",
       "      <td>197.4<\/td>\n",
       "      <td>99<\/td>\n",
       "      <td>16.78<\/td>\n",
       "      <td>244.7<\/td>\n",
       "      <td>91<\/td>\n",
       "      <td>11.01<\/td>\n",
       "      <td>10.0<\/td>\n",
       "      <td>3<\/td>\n",
       "      <td>2.70<\/td>\n",
       "      <td>1<\/td>\n",
       "    <\/tr>\n",
       "    <tr>\n",
       "      <th>1<\/th>\n",
       "      <td>No<\/td>\n",
       "      <td>107<\/td>\n",
       "      <td>no<\/td>\n",
       "      <td>yes<\/td>\n",
       "      <td>26<\/td>\n",
       "      <td>161.6<\/td>\n",
       "      <td>123<\/td>\n",
       "      <td>27.47<\/td>\n",
       "      <td>195.5<\/td>\n",
       "      <td>103<\/td>\n",
       "      <td>16.62<\/td>\n",
       "      <td>254.4<\/td>\n",
       "      <td>103<\/td>\n",
       "      <td>11.45<\/td>\n",
       "      <td>13.7<\/td>\n",
       "      <td>3<\/td>\n",
       "      <td>3.70<\/td>\n",
       "      <td>1<\/td>\n",
       "    <\/tr>\n",
       "    <tr>\n",
       "      <th>2<\/th>\n",
       "      <td>No<\/td>\n",
       "      <td>137<\/td>\n",
       "      <td>no<\/td>\n",
       "      <td>no<\/td>\n",
       "      <td>0<\/td>\n",
       "      <td>243.4<\/td>\n",
       "      <td>114<\/td>\n",
       "      <td>41.38<\/td>\n",
       "      <td>121.2<\/td>\n",
       "      <td>110<\/td>\n",
       "      <td>10.30<\/td>\n",
       "      <td>162.6<\/td>\n",
       "      <td>104<\/td>\n",
       "      <td>7.32<\/td>\n",
       "      <td>12.2<\/td>\n",
       "      <td>5<\/td>\n",
       "      <td>3.29<\/td>\n",
       "      <td>0<\/td>\n",
       "    <\/tr>\n",
       "    <tr>\n",
       "      <th>3<\/th>\n",
       "      <td>No<\/td>\n",
       "      <td>84<\/td>\n",
       "      <td>yes<\/td>\n",
       "      <td>no<\/td>\n",
       "      <td>0<\/td>\n",
       "      <td>299.4<\/td>\n",
       "      <td>71<\/td>\n",
       "      <td>50.90<\/td>\n",
       "      <td>61.9<\/td>\n",
       "      <td>88<\/td>\n",
       "      <td>5.26<\/td>\n",
       "      <td>196.9<\/td>\n",
       "      <td>89<\/td>\n",
       "      <td>8.86<\/td>\n",
       "      <td>6.6<\/td>\n",
       "      <td>7<\/td>\n",
       "      <td>1.78<\/td>\n",
       "      <td>2<\/td>\n",
       "    <\/tr>\n",
       "    <tr>\n",
       "      <th>4<\/th>\n",
       "      <td>No<\/td>\n",
       "      <td>75<\/td>\n",
       "      <td>yes<\/td>\n",
       "      <td>no<\/td>\n",
       "      <td>0<\/td>\n",
       "      <td>166.7<\/td>\n",
       "      <td>113<\/td>\n",
       "      <td>28.34<\/td>\n",
       "      <td>148.3<\/td>\n",
       "      <td>122<\/td>\n",
       "      <td>12.61<\/td>\n",
       "      <td>186.9<\/td>\n",
       "      <td>121<\/td>\n",
       "      <td>8.41<\/td>\n",
       "      <td>10.1<\/td>\n",
       "      <td>3<\/td>\n",
       "      <td>2.73<\/td>\n",
       "      <td>3<\/td>\n",
       "    <\/tr>\n",
       "    <tr>\n",
       "      <th>...<\/th>\n",
       "      <td>...<\/td>\n",
       "      <td>...<\/td>\n",
       "      <td>...<\/td>\n",
       "      <td>...<\/td>\n",
       "      <td>...<\/td>\n",
       "      <td>...<\/td>\n",
       "      <td>...<\/td>\n",
       "      <td>...<\/td>\n",
       "      <td>...<\/td>\n",
       "      <td>...<\/td>\n",
       "      <td>...<\/td>\n",
       "      <td>...<\/td>\n",
       "      <td>...<\/td>\n",
       "      <td>...<\/td>\n",
       "      <td>...<\/td>\n",
       "      <td>...<\/td>\n",
       "      <td>...<\/td>\n",
       "      <td>...<\/td>\n",
       "    <\/tr>\n",
       "    <tr>\n",
       "      <th>4995<\/th>\n",
       "      <td>No<\/td>\n",
       "      <td>50<\/td>\n",
       "      <td>no<\/td>\n",
       "      <td>yes<\/td>\n",
       "      <td>40<\/td>\n",
       "      <td>235.7<\/td>\n",
       "      <td>127<\/td>\n",
       "      <td>40.07<\/td>\n",
       "      <td>223.0<\/td>\n",
       "      <td>126<\/td>\n",
       "      <td>18.96<\/td>\n",
       "      <td>297.5<\/td>\n",
       "      <td>116<\/td>\n",
       "      <td>13.39<\/td>\n",
       "      <td>9.9<\/td>\n",
       "      <td>5<\/td>\n",
       "      <td>2.67<\/td>\n",
       "      <td>2<\/td>\n",
       "    <\/tr>\n",
       "    <tr>\n",
       "      <th>4996<\/th>\n",
       "      <td>Yes<\/td>\n",
       "      <td>152<\/td>\n",
       "      <td>no<\/td>\n",
       "      <td>no<\/td>\n",
       "      <td>0<\/td>\n",
       "      <td>184.2<\/td>\n",
       "      <td>90<\/td>\n",
       "      <td>31.31<\/td>\n",
       "      <td>256.8<\/td>\n",
       "      <td>73<\/td>\n",
       "      <td>21.83<\/td>\n",
       "      <td>213.6<\/td>\n",
       "      <td>113<\/td>\n",
       "      <td>9.61<\/td>\n",
       "      <td>14.7<\/td>\n",
       "      <td>2<\/td>\n",
       "      <td>3.97<\/td>\n",
       "      <td>3<\/td>\n",
       "    <\/tr>\n",
       "    <tr>\n",
       "      <th>4997<\/th>\n",
       "      <td>No<\/td>\n",
       "      <td>61<\/td>\n",
       "      <td>no<\/td>\n",
       "      <td>no<\/td>\n",
       "      <td>0<\/td>\n",
       "      <td>140.6<\/td>\n",
       "      <td>89<\/td>\n",
       "      <td>23.90<\/td>\n",
       "      <td>172.8<\/td>\n",
       "      <td>128<\/td>\n",
       "      <td>14.69<\/td>\n",
       "      <td>212.4<\/td>\n",
       "      <td>97<\/td>\n",
       "      <td>9.56<\/td>\n",
       "      <td>13.6<\/td>\n",
       "      <td>4<\/td>\n",
       "      <td>3.67<\/td>\n",
       "      <td>1<\/td>\n",
       "    <\/tr>\n",
       "    <tr>\n",
       "      <th>4998<\/th>\n",
       "      <td>No<\/td>\n",
       "      <td>109<\/td>\n",
       "      <td>no<\/td>\n",
       "      <td>no<\/td>\n",
       "      <td>0<\/td>\n",
       "      <td>188.8<\/td>\n",
       "      <td>67<\/td>\n",
       "      <td>32.10<\/td>\n",
       "      <td>171.7<\/td>\n",
       "      <td>92<\/td>\n",
       "      <td>14.59<\/td>\n",
       "      <td>224.4<\/td>\n",
       "      <td>89<\/td>\n",
       "      <td>10.10<\/td>\n",
       "      <td>8.5<\/td>\n",
       "      <td>6<\/td>\n",
       "      <td>2.30<\/td>\n",
       "      <td>0<\/td>\n",
       "    <\/tr>\n",
       "    <tr>\n",
       "      <th>4999<\/th>\n",
       "      <td>No<\/td>\n",
       "      <td>86<\/td>\n",
       "      <td>no<\/td>\n",
       "      <td>yes<\/td>\n",
       "      <td>34<\/td>\n",
       "      <td>129.4<\/td>\n",
       "      <td>102<\/td>\n",
       "      <td>22.00<\/td>\n",
       "      <td>267.1<\/td>\n",
       "      <td>104<\/td>\n",
       "      <td>22.70<\/td>\n",
       "      <td>154.8<\/td>\n",
       "      <td>100<\/td>\n",
       "      <td>6.97<\/td>\n",
       "      <td>9.3<\/td>\n",
       "      <td>16<\/td>\n",
       "      <td>2.51<\/td>\n",
       "      <td>0<\/td>\n",
       "    <\/tr>\n",
       "  <\/tbody>\n",
       "<\/table>\n",
       "<p>5000 rows × 18 columns<\/p>\n",
       "<\/div>"
      ]
     },
     "metadata":{
      
     },
     "output_type":"display_data"
    }
   ],
   "metadata":{
    "datalore":{
     "node_id":"1MfrMU3hmrg2sIzKq0rLsQ",
     "type":"CODE",
     "hide_input_from_viewers":true,
     "hide_output_from_viewers":true
    }
   }
  },
  {
   "cell_type":"markdown",
   "source":[
    "Only 'Internationplan' and 'Voicemailplan' are categorical with 2 distinct values"
   ],
   "attachments":{
    
   },
   "metadata":{
    "datalore":{
     "node_id":"PniePehQUl0tDH6UYFz8H7",
     "type":"MD",
     "hide_input_from_viewers":true,
     "hide_output_from_viewers":true
    }
   }
  },
  {
   "cell_type":"markdown",
   "source":[
    "All columns are usefull, noone can be rejected"
   ],
   "attachments":{
    
   },
   "metadata":{
    "datalore":{
     "node_id":"A4F9cnm3EEnuwNLAgW5lsl",
     "type":"MD",
     "hide_input_from_viewers":true,
     "hide_output_from_viewers":true
    }
   }
  },
  {
   "cell_type":"code",
   "source":[
    "df.columns"
   ],
   "execution_count":4,
   "outputs":[
    {
     "data":{
      "text\/plain":[
       "Index(['churn', 'accountlength', 'internationalplan', 'voicemailplan',\n",
       "       'numbervmailmessages', 'totaldayminutes', 'totaldaycalls',\n",
       "       'totaldaycharge', 'totaleveminutes', 'totalevecalls', 'totalevecharge',\n",
       "       'totalnightminutes', 'totalnightcalls', 'totalnightcharge',\n",
       "       'totalintlminutes', 'totalintlcalls', 'totalintlcharge',\n",
       "       'numbercustomerservicecalls'],\n",
       "      dtype='object')"
      ]
     },
     "metadata":{
      
     },
     "output_type":"display_data"
    }
   ],
   "metadata":{
    "datalore":{
     "node_id":"DfI50Tz0F6zaVkXKVefBO2",
     "type":"CODE",
     "hide_input_from_viewers":true,
     "hide_output_from_viewers":true
    }
   }
  },
  {
   "cell_type":"code",
   "source":[
    "Y=df.churn\n",
    "X=df.loc[:,'accountlength':'numbercustomerservicecalls']"
   ],
   "execution_count":5,
   "outputs":[
    
   ],
   "metadata":{
    "datalore":{
     "node_id":"8VAMfBuqI0CcG5H35BzCVt",
     "type":"CODE",
     "hide_input_from_viewers":true,
     "hide_output_from_viewers":true
    }
   }
  },
  {
   "cell_type":"markdown",
   "source":[
    "No null values in the dataset"
   ],
   "attachments":{
    
   },
   "metadata":{
    "datalore":{
     "node_id":"9HB9LdbSgjdWBWWIE5nY5E",
     "type":"MD",
     "hide_input_from_viewers":true,
     "hide_output_from_viewers":true
    }
   }
  },
  {
   "cell_type":"code",
   "source":[
    "df.isnull().sum()"
   ],
   "execution_count":6,
   "outputs":[
    {
     "data":{
      "text\/html":[
       "<pre>churn                         0\n",
       "accountlength                 0\n",
       "internationalplan             0\n",
       "voicemailplan                 0\n",
       "numbervmailmessages           0\n",
       "totaldayminutes               0\n",
       "totaldaycalls                 0\n",
       "totaldaycharge                0\n",
       "totaleveminutes               0\n",
       "totalevecalls                 0\n",
       "totalevecharge                0\n",
       "totalnightminutes             0\n",
       "totalnightcalls               0\n",
       "totalnightcharge              0\n",
       "totalintlminutes              0\n",
       "totalintlcalls                0\n",
       "totalintlcharge               0\n",
       "numbercustomerservicecalls    0\n",
       "dtype: int64<\/pre>"
      ]
     },
     "metadata":{
      
     },
     "output_type":"display_data"
    }
   ],
   "metadata":{
    "datalore":{
     "node_id":"HrufovlM0H1svdOEaiTahw",
     "type":"CODE",
     "hide_input_from_viewers":true,
     "hide_output_from_viewers":true
    }
   }
  },
  {
   "cell_type":"markdown",
   "source":[
    "Standardising the data"
   ],
   "attachments":{
    
   },
   "metadata":{
    "datalore":{
     "node_id":"AzSkI26u61FUNOcvHiGFZG",
     "type":"MD",
     "hide_input_from_viewers":true,
     "hide_output_from_viewers":true
    }
   }
  },
  {
   "cell_type":"code",
   "source":[
    "categorical_columns = ['internationalplan', 'voicemailplan']\n",
    "numerical_columns = [col for col in df.columns if col not in categorical_columns and col != 'churn']"
   ],
   "execution_count":7,
   "outputs":[
    
   ],
   "metadata":{
    "datalore":{
     "node_id":"29D6Dog0PpIph9bReHi8oI",
     "type":"CODE",
     "hide_input_from_viewers":true,
     "hide_output_from_viewers":true
    }
   }
  },
  {
   "cell_type":"code",
   "source":[
    "from sklearn.preprocessing import StandardScaler\n",
    "scaler = StandardScaler()\n",
    "df[numerical_columns] = scaler.fit_transform(df[numerical_columns])"
   ],
   "execution_count":8,
   "outputs":[
    
   ],
   "metadata":{
    "datalore":{
     "node_id":"Dz8M6xe5k94OD3lyDU0hVK",
     "type":"CODE",
     "hide_input_from_viewers":true,
     "hide_output_from_viewers":true
    }
   }
  },
  {
   "cell_type":"code",
   "source":[
    "df['churn'] = df['churn'].map({'Yes': 1, 'No': 0})\n",
    "df['internationalplan'] = df['internationalplan'].map({'yes': 1, 'no': 0})\n",
    "df['voicemailplan'] = df['voicemailplan'].map({'yes': 1, 'no': 0})"
   ],
   "execution_count":9,
   "outputs":[
    
   ],
   "metadata":{
    "datalore":{
     "node_id":"EF23CSALZmVLAXc17c60jP",
     "type":"CODE",
     "hide_input_from_viewers":true,
     "hide_output_from_viewers":true
    }
   }
  },
  {
   "cell_type":"code",
   "source":[
    "df"
   ],
   "execution_count":10,
   "outputs":[
    {
     "data":{
      "text\/html":[
       "<div>\n",
       "<style scoped>\n",
       "    .dataframe tbody tr th:only-of-type {\n",
       "        vertical-align: middle;\n",
       "    }\n",
       "\n",
       "    .dataframe tbody tr th {\n",
       "        vertical-align: top;\n",
       "    }\n",
       "\n",
       "    .dataframe thead th {\n",
       "        text-align: right;\n",
       "    }\n",
       "<\/style>\n",
       "<table border=\"1\" class=\"dataframe\">\n",
       "  <thead>\n",
       "    <tr style=\"text-align: right;\">\n",
       "      <th><\/th>\n",
       "      <th>churn<\/th>\n",
       "      <th>accountlength<\/th>\n",
       "      <th>internationalplan<\/th>\n",
       "      <th>voicemailplan<\/th>\n",
       "      <th>numbervmailmessages<\/th>\n",
       "      <th>totaldayminutes<\/th>\n",
       "      <th>totaldaycalls<\/th>\n",
       "      <th>totaldaycharge<\/th>\n",
       "      <th>totaleveminutes<\/th>\n",
       "      <th>totalevecalls<\/th>\n",
       "      <th>totalevecharge<\/th>\n",
       "      <th>totalnightminutes<\/th>\n",
       "      <th>totalnightcalls<\/th>\n",
       "      <th>totalnightcharge<\/th>\n",
       "      <th>totalintlminutes<\/th>\n",
       "      <th>totalintlcalls<\/th>\n",
       "      <th>totalintlcharge<\/th>\n",
       "      <th>numbercustomerservicecalls<\/th>\n",
       "    <\/tr>\n",
       "  <\/thead>\n",
       "  <tbody>\n",
       "    <tr>\n",
       "      <th>0<\/th>\n",
       "      <td>0<\/td>\n",
       "      <td>0.698941<\/td>\n",
       "      <td>0<\/td>\n",
       "      <td>1<\/td>\n",
       "      <td>1.273145<\/td>\n",
       "      <td>1.573802<\/td>\n",
       "      <td>0.502824<\/td>\n",
       "      <td>1.574074<\/td>\n",
       "      <td>-0.064032<\/td>\n",
       "      <td>-0.060077<\/td>\n",
       "      <td>-0.063849<\/td>\n",
       "      <td>0.876999<\/td>\n",
       "      <td>-0.446928<\/td>\n",
       "      <td>0.876286<\/td>\n",
       "      <td>-0.094809<\/td>\n",
       "      <td>-0.584236<\/td>\n",
       "      <td>-0.095509<\/td>\n",
       "      <td>-0.436676<\/td>\n",
       "    <\/tr>\n",
       "    <tr>\n",
       "      <th>1<\/th>\n",
       "      <td>0<\/td>\n",
       "      <td>0.169849<\/td>\n",
       "      <td>0<\/td>\n",
       "      <td>1<\/td>\n",
       "      <td>1.346973<\/td>\n",
       "      <td>-0.346802<\/td>\n",
       "      <td>1.158422<\/td>\n",
       "      <td>-0.347082<\/td>\n",
       "      <td>-0.101621<\/td>\n",
       "      <td>0.141693<\/td>\n",
       "      <td>-0.101089<\/td>\n",
       "      <td>1.068992<\/td>\n",
       "      <td>0.154374<\/td>\n",
       "      <td>1.069818<\/td>\n",
       "      <td>1.245227<\/td>\n",
       "      <td>-0.584236<\/td>\n",
       "      <td>1.245982<\/td>\n",
       "      <td>-0.436676<\/td>\n",
       "    <\/tr>\n",
       "    <tr>\n",
       "      <th>2<\/th>\n",
       "      <td>0<\/td>\n",
       "      <td>0.925695<\/td>\n",
       "      <td>0<\/td>\n",
       "      <td>0<\/td>\n",
       "      <td>-0.572549<\/td>\n",
       "      <td>1.171125<\/td>\n",
       "      <td>0.704546<\/td>\n",
       "      <td>1.171286<\/td>\n",
       "      <td>-1.571562<\/td>\n",
       "      <td>0.494791<\/td>\n",
       "      <td>-1.572084<\/td>\n",
       "      <td>-0.748012<\/td>\n",
       "      <td>0.204483<\/td>\n",
       "      <td>-0.746737<\/td>\n",
       "      <td>0.701969<\/td>\n",
       "      <td>0.229917<\/td>\n",
       "      <td>0.695971<\/td>\n",
       "      <td>-1.202236<\/td>\n",
       "    <\/tr>\n",
       "    <tr>\n",
       "      <th>3<\/th>\n",
       "      <td>0<\/td>\n",
       "      <td>-0.409634<\/td>\n",
       "      <td>1<\/td>\n",
       "      <td>0<\/td>\n",
       "      <td>-0.572549<\/td>\n",
       "      <td>2.210292<\/td>\n",
       "      <td>-1.463971<\/td>\n",
       "      <td>2.210457<\/td>\n",
       "      <td>-2.744745<\/td>\n",
       "      <td>-0.614946<\/td>\n",
       "      <td>-2.745155<\/td>\n",
       "      <td>-0.069110<\/td>\n",
       "      <td>-0.547145<\/td>\n",
       "      <td>-0.069377<\/td>\n",
       "      <td>-1.326194<\/td>\n",
       "      <td>1.044069<\/td>\n",
       "      <td>-1.329681<\/td>\n",
       "      <td>0.328885<\/td>\n",
       "    <\/tr>\n",
       "    <tr>\n",
       "      <th>4<\/th>\n",
       "      <td>0<\/td>\n",
       "      <td>-0.636388<\/td>\n",
       "      <td>1<\/td>\n",
       "      <td>0<\/td>\n",
       "      <td>-0.572549<\/td>\n",
       "      <td>-0.252163<\/td>\n",
       "      <td>0.654116<\/td>\n",
       "      <td>-0.252115<\/td>\n",
       "      <td>-1.035419<\/td>\n",
       "      <td>1.100103<\/td>\n",
       "      <td>-1.034426<\/td>\n",
       "      <td>-0.267041<\/td>\n",
       "      <td>1.056327<\/td>\n",
       "      <td>-0.267307<\/td>\n",
       "      <td>-0.058592<\/td>\n",
       "      <td>-0.584236<\/td>\n",
       "      <td>-0.055264<\/td>\n",
       "      <td>1.094445<\/td>\n",
       "    <\/tr>\n",
       "    <tr>\n",
       "      <th>...<\/th>\n",
       "      <td>...<\/td>\n",
       "      <td>...<\/td>\n",
       "      <td>...<\/td>\n",
       "      <td>...<\/td>\n",
       "      <td>...<\/td>\n",
       "      <td>...<\/td>\n",
       "      <td>...<\/td>\n",
       "      <td>...<\/td>\n",
       "      <td>...<\/td>\n",
       "      <td>...<\/td>\n",
       "      <td>...<\/td>\n",
       "      <td>...<\/td>\n",
       "      <td>...<\/td>\n",
       "      <td>...<\/td>\n",
       "      <td>...<\/td>\n",
       "      <td>...<\/td>\n",
       "      <td>...<\/td>\n",
       "      <td>...<\/td>\n",
       "    <\/tr>\n",
       "    <tr>\n",
       "      <th>4995<\/th>\n",
       "      <td>0<\/td>\n",
       "      <td>-1.266260<\/td>\n",
       "      <td>0<\/td>\n",
       "      <td>1<\/td>\n",
       "      <td>2.380562<\/td>\n",
       "      <td>1.028239<\/td>\n",
       "      <td>1.360145<\/td>\n",
       "      <td>1.028291<\/td>\n",
       "      <td>0.442435<\/td>\n",
       "      <td>1.301873<\/td>\n",
       "      <td>0.443551<\/td>\n",
       "      <td>1.922073<\/td>\n",
       "      <td>0.805785<\/td>\n",
       "      <td>1.923114<\/td>\n",
       "      <td>-0.131027<\/td>\n",
       "      <td>0.229917<\/td>\n",
       "      <td>-0.135754<\/td>\n",
       "      <td>0.328885<\/td>\n",
       "    <\/tr>\n",
       "    <tr>\n",
       "      <th>4996<\/th>\n",
       "      <td>1<\/td>\n",
       "      <td>1.303619<\/td>\n",
       "      <td>0<\/td>\n",
       "      <td>0<\/td>\n",
       "      <td>-0.572549<\/td>\n",
       "      <td>0.072577<\/td>\n",
       "      <td>-0.505789<\/td>\n",
       "      <td>0.072080<\/td>\n",
       "      <td>1.111130<\/td>\n",
       "      <td>-1.371585<\/td>\n",
       "      <td>1.111550<\/td>\n",
       "      <td>0.261434<\/td>\n",
       "      <td>0.655459<\/td>\n",
       "      <td>0.260505<\/td>\n",
       "      <td>1.607399<\/td>\n",
       "      <td>-0.991312<\/td>\n",
       "      <td>1.608185<\/td>\n",
       "      <td>1.094445<\/td>\n",
       "    <\/tr>\n",
       "    <tr>\n",
       "      <th>4997<\/th>\n",
       "      <td>0<\/td>\n",
       "      <td>-0.989116<\/td>\n",
       "      <td>0<\/td>\n",
       "      <td>0<\/td>\n",
       "      <td>-0.572549<\/td>\n",
       "      <td>-0.736489<\/td>\n",
       "      <td>-0.556220<\/td>\n",
       "      <td>-0.736771<\/td>\n",
       "      <td>-0.550715<\/td>\n",
       "      <td>1.402758<\/td>\n",
       "      <td>-0.550301<\/td>\n",
       "      <td>0.237683<\/td>\n",
       "      <td>-0.146277<\/td>\n",
       "      <td>0.238513<\/td>\n",
       "      <td>1.209010<\/td>\n",
       "      <td>-0.177160<\/td>\n",
       "      <td>1.205738<\/td>\n",
       "      <td>-0.436676<\/td>\n",
       "    <\/tr>\n",
       "    <tr>\n",
       "      <th>4998<\/th>\n",
       "      <td>0<\/td>\n",
       "      <td>0.220239<\/td>\n",
       "      <td>0<\/td>\n",
       "      <td>0<\/td>\n",
       "      <td>-0.572549<\/td>\n",
       "      <td>0.157937<\/td>\n",
       "      <td>-1.665694<\/td>\n",
       "      <td>0.158313<\/td>\n",
       "      <td>-0.572477<\/td>\n",
       "      <td>-0.413175<\/td>\n",
       "      <td>-0.573577<\/td>\n",
       "      <td>0.475200<\/td>\n",
       "      <td>-0.547145<\/td>\n",
       "      <td>0.476029<\/td>\n",
       "      <td>-0.638067<\/td>\n",
       "      <td>0.636993<\/td>\n",
       "      <td>-0.632105<\/td>\n",
       "      <td>-1.202236<\/td>\n",
       "    <\/tr>\n",
       "    <tr>\n",
       "      <th>4999<\/th>\n",
       "      <td>0<\/td>\n",
       "      <td>-0.359244<\/td>\n",
       "      <td>0<\/td>\n",
       "      <td>1<\/td>\n",
       "      <td>1.937595<\/td>\n",
       "      <td>-0.944323<\/td>\n",
       "      <td>0.099379<\/td>\n",
       "      <td>-0.944168<\/td>\n",
       "      <td>1.314903<\/td>\n",
       "      <td>0.192136<\/td>\n",
       "      <td>1.314044<\/td>\n",
       "      <td>-0.902398<\/td>\n",
       "      <td>0.004049<\/td>\n",
       "      <td>-0.900682<\/td>\n",
       "      <td>-0.348330<\/td>\n",
       "      <td>4.707755<\/td>\n",
       "      <td>-0.350392<\/td>\n",
       "      <td>-1.202236<\/td>\n",
       "    <\/tr>\n",
       "  <\/tbody>\n",
       "<\/table>\n",
       "<p>5000 rows × 18 columns<\/p>\n",
       "<\/div>"
      ]
     },
     "metadata":{
      
     },
     "output_type":"display_data"
    }
   ],
   "metadata":{
    "datalore":{
     "node_id":"hSbJy4q2cBAMoInVaKG30M",
     "type":"CODE",
     "hide_input_from_viewers":true,
     "hide_output_from_viewers":true
    }
   }
  },
  {
   "cell_type":"markdown",
   "source":[
    "Splitting the data into train and test set"
   ],
   "attachments":{
    
   },
   "metadata":{
    "datalore":{
     "node_id":"bXYnDHwfO7pk1wzgQEXclk",
     "type":"MD",
     "hide_input_from_viewers":true,
     "hide_output_from_viewers":true
    }
   }
  },
  {
   "cell_type":"code",
   "source":[
    "from sklearn.model_selection import train_test_split\n",
    "\n",
    "X = df.drop('churn', axis=1)\n",
    "y = df['churn']\n",
    "\n",
    "# Split the data into train and test sets (80% train, 20% test)\n",
    "X_train, X_test, y_train, y_test = train_test_split(X, y, test_size=0.2, random_state=42)\n",
    "\n",
    "# Output the shapes of the resulting datasets\n",
    "print(\"X_train shape:\", X_train.shape)\n",
    "print(\"X_test shape:\", X_test.shape)\n",
    "print(\"y_train shape:\", y_train.shape)\n",
    "print(\"y_test shape:\", y_test.shape)"
   ],
   "execution_count":11,
   "outputs":[
    {
     "name":"stdout",
     "text":[
      "X_train shape: (4000, 17)\n",
      "X_test shape: (1000, 17)\n",
      "y_train shape: (4000,)\n",
      "y_test shape: (1000,)\n"
     ],
     "output_type":"stream"
    }
   ],
   "metadata":{
    "datalore":{
     "node_id":"s9Qj7p2wr5U5AXVgyj3Qcc",
     "type":"CODE",
     "hide_input_from_viewers":true,
     "hide_output_from_viewers":true
    }
   }
  },
  {
   "cell_type":"code",
   "source":[
    
   ],
   "execution_count":null,
   "outputs":[
    
   ],
   "metadata":{
    "datalore":{
     "node_id":"ZlcA10GnSpb0ZHtvtcUHBb",
     "type":"CODE",
     "hide_input_from_viewers":true,
     "hide_output_from_viewers":true
    }
   }
  },
  {
   "cell_type":"code",
   "source":[
    "from sklearn.linear_model import LogisticRegression\n",
    "from sklearn.metrics import accuracy_score, precision_score, recall_score, f1_score, roc_auc_score\n",
    "\n",
    "# Assuming you have already split the data into X_train, X_test, y_train, and y_test\n",
    "\n",
    "# Initialize the logistic regression model\n",
    "logreg = LogisticRegression()\n",
    "\n",
    "# Train the model on the training data\n",
    "logreg.fit(X_train, y_train)\n",
    "\n",
    "# Make predictions on the test set\n",
    "y_pred = logreg.predict(X_test)\n",
    "\n",
    "# Calculate evaluation metrics\n",
    "accuracy = accuracy_score(y_test, y_pred)\n",
    "precision = precision_score(y_test, y_pred)\n",
    "recall = recall_score(y_test, y_pred)\n",
    "f1 = f1_score(y_test, y_pred)\n",
    "roc_auc = roc_auc_score(y_test, y_pred)\n",
    "\n",
    "# Output the evaluation metrics\n",
    "print(\"Accuracy:\", accuracy)\n",
    "print(\"Precision:\", precision)\n",
    "print(\"Recall:\", recall)\n",
    "print(\"F1 Score:\", f1)\n",
    "print(\"ROC-AUC Score:\", roc_auc)"
   ],
   "execution_count":12,
   "outputs":[
    {
     "name":"stdout",
     "text":[
      "Accuracy: 0.872\n",
      "Precision: 0.5964912280701754\n",
      "Recall: 0.2446043165467626\n",
      "F1 Score: 0.346938775510204\n",
      "ROC-AUC Score: 0.6089455961363314\n"
     ],
     "output_type":"stream"
    }
   ],
   "metadata":{
    "datalore":{
     "node_id":"u3uBl9w8a7e4gscAMgkvba",
     "type":"CODE",
     "hide_input_from_viewers":true,
     "hide_output_from_viewers":true
    }
   }
  },
  {
   "cell_type":"markdown",
   "source":[
    "Random Forest Algorithm"
   ],
   "attachments":{
    
   },
   "metadata":{
    "datalore":{
     "node_id":"nmV6TvN35faZ8ktSSVd9yQ",
     "type":"MD",
     "hide_input_from_viewers":true,
     "hide_output_from_viewers":true
    }
   }
  },
  {
   "cell_type":"code",
   "source":[
    "from sklearn.ensemble import RandomForestClassifier\n",
    "from sklearn.metrics import accuracy_score, precision_score, recall_score, f1_score, roc_auc_score\n",
    "\n",
    "# Assuming you have already split the data into X_train, X_test, y_train, and y_test\n",
    "\n",
    "# Initialize the Random Forest model\n",
    "random_forest = RandomForestClassifier(random_state=42)\n",
    "\n",
    "# Train the model on the training data\n",
    "random_forest.fit(X_train, y_train)\n",
    "\n",
    "# Make predictions on the test set\n",
    "y_pred = random_forest.predict(X_test)\n",
    "\n",
    "# Calculate evaluation metrics\n",
    "accuracy = accuracy_score(y_test, y_pred)\n",
    "precision = precision_score(y_test, y_pred)\n",
    "recall = recall_score(y_test, y_pred)\n",
    "f1 = f1_score(y_test, y_pred)\n",
    "roc_auc = roc_auc_score(y_test, y_pred)\n",
    "\n",
    "# Output the evaluation metrics\n",
    "print(\"Accuracy:\", accuracy)\n",
    "print(\"Precision:\", precision)\n",
    "print(\"Recall:\", recall)\n",
    "print(\"F1 Score:\", f1)\n",
    "print(\"ROC-AUC Score:\", roc_auc)"
   ],
   "execution_count":13,
   "outputs":[
    {
     "name":"stdout",
     "text":[
      "Accuracy: 0.96\n",
      "Precision: 0.9304347826086956\n",
      "Recall: 0.7697841726618705\n",
      "F1 Score: 0.8425196850393699\n",
      "ROC-AUC Score: 0.8802463255876136\n"
     ],
     "output_type":"stream"
    }
   ],
   "metadata":{
    "datalore":{
     "node_id":"JIlDQrAa2JtUJFm1ws2XJV",
     "type":"CODE",
     "hide_input_from_viewers":true,
     "hide_output_from_viewers":true
    }
   }
  },
  {
   "cell_type":"markdown",
   "source":[
    "Using KNN"
   ],
   "attachments":{
    
   },
   "metadata":{
    "datalore":{
     "node_id":"gKr7jUdcUP4LlDa5FoTZR7",
     "type":"MD",
     "hide_input_from_viewers":true,
     "hide_output_from_viewers":true
    }
   }
  },
  {
   "cell_type":"code",
   "source":[
    "from sklearn.neighbors import KNeighborsClassifier\n",
    "from sklearn.metrics import accuracy_score, precision_score, recall_score, f1_score, roc_auc_score\n",
    "\n",
    "# Assuming you have already split the data into X_train, X_test, y_train, and y_test\n",
    "\n",
    "# Initialize the KNN model with k=5 (you can choose a different value for k)\n",
    "knn = KNeighborsClassifier(n_neighbors=5)\n",
    "\n",
    "# Train the model on the training data\n",
    "knn.fit(X_train, y_train)\n",
    "\n",
    "# Make predictions on the test set\n",
    "y_pred = knn.predict(X_test)\n",
    "\n",
    "# Calculate evaluation metrics\n",
    "accuracy = accuracy_score(y_test, y_pred)\n",
    "precision = precision_score(y_test, y_pred)\n",
    "recall = recall_score(y_test, y_pred)\n",
    "f1 = f1_score(y_test, y_pred)\n",
    "roc_auc = roc_auc_score(y_test, y_pred)\n",
    "\n",
    "# Output the evaluation metrics\n",
    "print(\"Accuracy:\", accuracy)\n",
    "print(\"Precision:\", precision)\n",
    "print(\"Recall:\", recall)\n",
    "print(\"F1 Score:\", f1)\n",
    "print(\"ROC-AUC Score:\", roc_auc)"
   ],
   "execution_count":20,
   "outputs":[
    {
     "name":"stdout",
     "text":[
      "Accuracy: 0.898\n",
      "Precision: 0.8627450980392157\n",
      "Recall: 0.31654676258992803\n",
      "F1 Score: 0.4631578947368421\n",
      "ROC-AUC Score: 0.6542083406445575\n"
     ],
     "output_type":"stream"
    }
   ],
   "metadata":{
    "datalore":{
     "node_id":"onOLxpRbuStOapuUZNww8Y",
     "type":"CODE",
     "hide_input_from_viewers":true,
     "hide_output_from_viewers":true
    }
   }
  },
  {
   "cell_type":"markdown",
   "source":[
    "Using SVM"
   ],
   "attachments":{
    
   },
   "metadata":{
    "datalore":{
     "node_id":"TBipp2wcxLRVjOcbHo352q",
     "type":"MD",
     "hide_input_from_viewers":true,
     "hide_output_from_viewers":true
    }
   }
  },
  {
   "cell_type":"code",
   "source":[
    "from sklearn.svm import SVC\n",
    "from sklearn.metrics import accuracy_score, precision_score, recall_score, f1_score, roc_auc_score\n",
    "\n",
    "# Assuming you have already split the data into X_train, X_test, y_train, and y_test\n",
    "\n",
    "# Initialize the SVM model\n",
    "svm = SVC(kernel='rbf', random_state=42)\n",
    "\n",
    "# Train the model on the training data\n",
    "svm.fit(X_train, y_train)\n",
    "\n",
    "# Make predictions on the test set\n",
    "y_pred = svm.predict(X_test)\n",
    "\n",
    "# Calculate evaluation metrics\n",
    "accuracy = accuracy_score(y_test, y_pred)\n",
    "precision = precision_score(y_test, y_pred)\n",
    "recall = recall_score(y_test, y_pred)\n",
    "f1 = f1_score(y_test, y_pred)\n",
    "roc_auc = roc_auc_score(y_test, y_pred)\n",
    "\n",
    "# Output the evaluation metrics\n",
    "print(\"Accuracy:\", accuracy)\n",
    "print(\"Precision:\", precision)\n",
    "print(\"Recall:\", recall)\n",
    "print(\"F1 Score:\", f1)\n",
    "print(\"ROC-AUC Score:\", roc_auc)"
   ],
   "execution_count":17,
   "outputs":[
    {
     "name":"stdout",
     "text":[
      "Accuracy: 0.92\n",
      "Precision: 0.9154929577464789\n",
      "Recall: 0.4676258992805755\n",
      "F1 Score: 0.6190476190476191\n",
      "ROC-AUC Score: 0.7303286290827964\n"
     ],
     "output_type":"stream"
    }
   ],
   "metadata":{
    "datalore":{
     "node_id":"cjNateZnsneKvHcXaBw6p2",
     "type":"CODE",
     "hide_input_from_viewers":true,
     "hide_output_from_viewers":true
    }
   }
  },
  {
   "cell_type":"markdown",
   "source":[
    "Bagging Decision trees"
   ],
   "attachments":{
    
   },
   "metadata":{
    "datalore":{
     "node_id":"hL3Y3sk8IWPX3p3Oa4HwCF",
     "type":"MD",
     "hide_input_from_viewers":true,
     "hide_output_from_viewers":true
    }
   }
  },
  {
   "cell_type":"code",
   "source":[
    "from sklearn.ensemble import BaggingClassifier\n",
    "from sklearn.tree import DecisionTreeClassifier\n",
    "from sklearn.metrics import accuracy_score, precision_score, recall_score, f1_score, roc_auc_score\n",
    "\n",
    "# Assuming you have already split the data into X_train, X_test, y_train, and y_test\n",
    "\n",
    "# Initialize the Decision Tree classifier as the base estimator\n",
    "base_estimator = DecisionTreeClassifier(random_state=42)\n",
    "\n",
    "# Initialize the BaggingClassifier with Decision Trees\n",
    "bagging_classifier = BaggingClassifier(estimator=base_estimator, n_estimators=300, random_state=42)\n",
    "\n",
    "# Train the model on the training data\n",
    "bagging_classifier.fit(X_train, y_train)\n",
    "\n",
    "# Make predictions on the test set\n",
    "y_pred = bagging_classifier.predict(X_test)\n",
    "\n",
    "# Calculate evaluation metrics\n",
    "accuracy = accuracy_score(y_test, y_pred)\n",
    "precision = precision_score(y_test, y_pred)\n",
    "recall = recall_score(y_test, y_pred)\n",
    "f1 = f1_score(y_test, y_pred)\n",
    "roc_auc = roc_auc_score(y_test, y_pred)\n",
    "\n",
    "# Output the evaluation metrics\n",
    "print(\"Accuracy:\", accuracy)\n",
    "print(\"Precision:\", precision)\n",
    "print(\"Recall:\", recall)\n",
    "print(\"F1 Score:\", f1)\n",
    "print(\"ROC-AUC Score:\", roc_auc)"
   ],
   "execution_count":29,
   "outputs":[
    {
     "name":"stdout",
     "text":[
      "Accuracy: 0.955\n",
      "Precision: 0.9196428571428571\n",
      "Recall: 0.7410071942446043\n",
      "F1 Score: 0.8207171314741035\n",
      "ROC-AUC Score: 0.8652771162860651\n"
     ],
     "output_type":"stream"
    }
   ],
   "metadata":{
    "datalore":{
     "node_id":"Ax3ammvDBQjGGEIoydaA4c",
     "type":"CODE",
     "hide_input_from_viewers":true,
     "hide_output_from_viewers":true
    }
   }
  },
  {
   "cell_type":"markdown",
   "source":[
    "Boosted Decision Trees"
   ],
   "attachments":{
    
   },
   "metadata":{
    "datalore":{
     "node_id":"t6ddUpeyv2AAJ4EAxnFr3d",
     "type":"MD",
     "hide_input_from_viewers":true,
     "hide_output_from_viewers":true
    }
   }
  },
  {
   "cell_type":"code",
   "source":[
    "from sklearn.ensemble import AdaBoostClassifier\n",
    "from sklearn.tree import DecisionTreeClassifier\n",
    "from sklearn.metrics import accuracy_score, precision_score, recall_score, f1_score, roc_auc_score\n",
    "\n",
    "# Assuming you have already split the data into X_train, X_test, y_train, and y_test\n",
    "\n",
    "# Initialize the Decision Tree classifier as the base estimator\n",
    "base_estimator = DecisionTreeClassifier(random_state=42)\n",
    "\n",
    "# Initialize the AdaBoostClassifier with Decision Trees\n",
    "adaboost_classifier = AdaBoostClassifier(estimator=base_estimator, n_estimators=300, random_state=42)\n",
    "\n",
    "# Train the model on the training data\n",
    "adaboost_classifier.fit(X_train, y_train)\n",
    "\n",
    "# Make predictions on the test set\n",
    "y_pred = adaboost_classifier.predict(X_test)\n",
    "\n",
    "# Calculate evaluation metrics\n",
    "accuracy = accuracy_score(y_test, y_pred)\n",
    "precision = precision_score(y_test, y_pred)\n",
    "recall = recall_score(y_test, y_pred)\n",
    "f1 = f1_score(y_test, y_pred)\n",
    "roc_auc = roc_auc_score(y_test, y_pred)\n",
    "\n",
    "# Output the evaluation metrics\n",
    "print(\"Accuracy:\", accuracy)\n",
    "print(\"Precision:\", precision)\n",
    "print(\"Recall:\", recall)\n",
    "print(\"F1 Score:\", f1)\n",
    "print(\"ROC-AUC Score:\", roc_auc)"
   ],
   "execution_count":27,
   "outputs":[
    {
     "name":"stdout",
     "text":[
      "Accuracy: 0.93\n",
      "Precision: 0.7593984962406015\n",
      "Recall: 0.7266187050359713\n",
      "F1 Score: 0.7426470588235294\n",
      "ROC-AUC Score: 0.8447263095446987\n"
     ],
     "output_type":"stream"
    }
   ],
   "metadata":{
    "datalore":{
     "node_id":"NH6iL6w00h3ZhUZPIhVowg",
     "type":"CODE",
     "hide_input_from_viewers":true,
     "hide_output_from_viewers":true
    }
   }
  },
  {
   "cell_type":"markdown",
   "source":[
    "The Best accuracy we got is : 96 %"
   ],
   "attachments":{
    
   },
   "metadata":{
    "datalore":{
     "node_id":"VHXn6u7sSRANvk2dh3Kgxg",
     "type":"MD",
     "hide_input_from_viewers":true,
     "hide_output_from_viewers":true
    }
   }
  }
 ],
 "metadata":{
  "kernelspec":{
   "display_name":"Python",
   "language":"python",
   "name":"python"
  },
  "datalore":{
   "computation_mode":"JUPYTER",
   "package_manager":"pip",
   "base_environment":"default",
   "packages":[
    
   ],
   "report_row_ids":[
    
   ],
   "version":3
  }
 },
 "nbformat":4,
 "nbformat_minor":4
}